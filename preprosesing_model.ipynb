{
 "cells": [
  {
   "cell_type": "code",
   "execution_count": 1,
   "metadata": {},
   "outputs": [
    {
     "name": "stdout",
     "output_type": "stream",
     "text": [
      "INFO:tensorflow:Enabling eager execution\n",
      "INFO:tensorflow:Enabling v2 tensorshape\n",
      "INFO:tensorflow:Enabling resource variables\n",
      "INFO:tensorflow:Enabling tensor equality\n",
      "INFO:tensorflow:Enabling control flow v2\n"
     ]
    }
   ],
   "source": [
    "import tensorflow as tf\n",
    "import pandas as pd\n",
    "import string\n",
    "import numpy as np\n",
    "import nltk\n",
    "from nltk import word_tokenize\n",
    "from tensorflow import keras"
   ]
  },
  {
   "cell_type": "markdown",
   "metadata": {},
   "source": [
    "# Load the Dataset"
   ]
  },
  {
   "cell_type": "code",
   "execution_count": 2,
   "metadata": {},
   "outputs": [
    {
     "data": {
      "text/html": [
       "<div>\n",
       "<style scoped>\n",
       "    .dataframe tbody tr th:only-of-type {\n",
       "        vertical-align: middle;\n",
       "    }\n",
       "\n",
       "    .dataframe tbody tr th {\n",
       "        vertical-align: top;\n",
       "    }\n",
       "\n",
       "    .dataframe thead th {\n",
       "        text-align: right;\n",
       "    }\n",
       "</style>\n",
       "<table border=\"1\" class=\"dataframe\">\n",
       "  <thead>\n",
       "    <tr style=\"text-align: right;\">\n",
       "      <th></th>\n",
       "      <th>text</th>\n",
       "      <th>label</th>\n",
       "    </tr>\n",
       "  </thead>\n",
       "  <tbody>\n",
       "    <tr>\n",
       "      <th>0</th>\n",
       "      <td>GAZA/CAIRO (Reuters) - Palestinian factions, i...</td>\n",
       "      <td>1</td>\n",
       "    </tr>\n",
       "    <tr>\n",
       "      <th>1</th>\n",
       "      <td>HARARE (Reuters) - Zimbabwean police arrested ...</td>\n",
       "      <td>1</td>\n",
       "    </tr>\n",
       "    <tr>\n",
       "      <th>2</th>\n",
       "      <td>Ronna Romney McDaniel is the Chairman of the M...</td>\n",
       "      <td>0</td>\n",
       "    </tr>\n",
       "    <tr>\n",
       "      <th>3</th>\n",
       "      <td>WASHINGTON (Reuters) - A small group of Republ...</td>\n",
       "      <td>1</td>\n",
       "    </tr>\n",
       "    <tr>\n",
       "      <th>4</th>\n",
       "      <td>THE HUNTINGTON BEACH, CA RALLY WAS PRETTY BIG ...</td>\n",
       "      <td>0</td>\n",
       "    </tr>\n",
       "    <tr>\n",
       "      <th>5</th>\n",
       "      <td>BALTIMORE (Reuters) - A Maryland state senator...</td>\n",
       "      <td>1</td>\n",
       "    </tr>\n",
       "    <tr>\n",
       "      <th>6</th>\n",
       "      <td>Remember when the left would have been ashamed...</td>\n",
       "      <td>0</td>\n",
       "    </tr>\n",
       "    <tr>\n",
       "      <th>7</th>\n",
       "      <td>CLEVELAND (Reuters) - As Republicans spilled i...</td>\n",
       "      <td>1</td>\n",
       "    </tr>\n",
       "    <tr>\n",
       "      <th>9</th>\n",
       "      <td>Beware of morning talk show hosts turned  news...</td>\n",
       "      <td>0</td>\n",
       "    </tr>\n",
       "    <tr>\n",
       "      <th>10</th>\n",
       "      <td>Senator Bernie Sanders had the crowd roaring w...</td>\n",
       "      <td>0</td>\n",
       "    </tr>\n",
       "  </tbody>\n",
       "</table>\n",
       "</div>"
      ],
      "text/plain": [
       "                                                 text  label\n",
       "0   GAZA/CAIRO (Reuters) - Palestinian factions, i...      1\n",
       "1   HARARE (Reuters) - Zimbabwean police arrested ...      1\n",
       "2   Ronna Romney McDaniel is the Chairman of the M...      0\n",
       "3   WASHINGTON (Reuters) - A small group of Republ...      1\n",
       "4   THE HUNTINGTON BEACH, CA RALLY WAS PRETTY BIG ...      0\n",
       "5   BALTIMORE (Reuters) - A Maryland state senator...      1\n",
       "6   Remember when the left would have been ashamed...      0\n",
       "7   CLEVELAND (Reuters) - As Republicans spilled i...      1\n",
       "9   Beware of morning talk show hosts turned  news...      0\n",
       "10  Senator Bernie Sanders had the crowd roaring w...      0"
      ]
     },
     "execution_count": 2,
     "metadata": {},
     "output_type": "execute_result"
    }
   ],
   "source": [
    "data = pd.read_csv('data.csv',encoding='utf8')\n",
    "\n",
    "del data['Unnamed: 0'] # Removing the index column\n",
    "\n",
    "for i in range(len(data[\"text\"])):\n",
    "    if data[\"text\"][i] == ' ':\n",
    "        data.drop(i, inplace = True )\n",
    "data.head(10)      "
   ]
  },
  {
   "cell_type": "code",
   "execution_count": 3,
   "metadata": {},
   "outputs": [
    {
     "name": "stdout",
     "output_type": "stream",
     "text": [
      "<class 'pandas.core.frame.DataFrame'>\n",
      "Int64Index: 44271 entries, 0 to 44897\n",
      "Data columns (total 2 columns):\n",
      " #   Column  Non-Null Count  Dtype \n",
      "---  ------  --------------  ----- \n",
      " 0   text    44271 non-null  object\n",
      " 1   label   44271 non-null  int64 \n",
      "dtypes: int64(1), object(1)\n",
      "memory usage: 2.3+ MB\n"
     ]
    }
   ],
   "source": [
    "data.info()"
   ]
  },
  {
   "cell_type": "markdown",
   "metadata": {},
   "source": [
    "# Data Preprocessing"
   ]
  },
  {
   "cell_type": "markdown",
   "metadata": {},
   "source": [
    "### Spliting the data"
   ]
  },
  {
   "cell_type": "code",
   "execution_count": 4,
   "metadata": {},
   "outputs": [],
   "source": [
    "# Training and Validation Split\n",
    "validation_split = 0.2\n",
    "num_validation_samples = int(validation_split * len(data))\n",
    "train_samples = data[\"text\"][:-num_validation_samples]\n",
    "val_samples = data[\"text\"][-num_validation_samples:]\n",
    "train_labels = data[\"label\"][:-num_validation_samples]\n",
    "val_labels = data[\"label\"][-num_validation_samples:]"
   ]
  },
  {
   "cell_type": "markdown",
   "metadata": {},
   "source": [
    "### Word Vector Representation"
   ]
  },
  {
   "cell_type": "code",
   "execution_count": 16,
   "metadata": {},
   "outputs": [
    {
     "data": {
      "text/plain": [
       "<tensorflow.python.keras.layers.preprocessing.text_vectorization.TextVectorization at 0x222184d1400>"
      ]
     },
     "execution_count": 16,
     "metadata": {},
     "output_type": "execute_result"
    }
   ],
   "source": [
    "from tensorflow.keras.layers.experimental.preprocessing import TextVectorization\n",
    "\n",
    "Length_of_input_sentenses=500\n",
    "\n",
    "# matrix of pretrained weights\n",
    "vectorizer = TextVectorization(max_tokens=20000, output_sequence_length=200)\n",
    "text_ds = tf.data.Dataset.from_tensor_slices(train_samples).batch(128)\n",
    "vectorizer.adapt(text_ds)\n",
    "vectorizer"
   ]
  },
  {
   "cell_type": "code",
   "execution_count": 17,
   "metadata": {},
   "outputs": [],
   "source": [
    "# Customize get_vocabulary method\n",
    "def _get_vocabulary():\n",
    "    keys, values = vectorizer._index_lookup_layer._table_handler.data()\n",
    "    return [x.decode('utf8', errors='ignore') for _, x in sorted(zip(values, keys))]"
   ]
  },
  {
   "cell_type": "code",
   "execution_count": 18,
   "metadata": {},
   "outputs": [
    {
     "data": {
      "text/plain": [
       "['', 'the', 'to', 'of', 'a']"
      ]
     },
     "execution_count": 18,
     "metadata": {},
     "output_type": "execute_result"
    }
   ],
   "source": [
    "# vectorizer.get_vocabulary()\n",
    "_get_vocabulary()[:5]"
   ]
  },
  {
   "cell_type": "code",
   "execution_count": 19,
   "metadata": {},
   "outputs": [
    {
     "data": {
      "text/plain": [
       "array([   2, 8942,    6, 3408, 3268,    9], dtype=int64)"
      ]
     },
     "execution_count": 19,
     "metadata": {},
     "output_type": "execute_result"
    }
   ],
   "source": [
    "output = vectorizer([[\"the cat and dog sat on the mat\"]])\n",
    "output.numpy()[0, :6]"
   ]
  },
  {
   "cell_type": "code",
   "execution_count": 20,
   "metadata": {},
   "outputs": [
    {
     "name": "stdout",
     "output_type": "stream",
     "text": [
      "Found 400000 word vectors.\n"
     ]
    }
   ],
   "source": [
    "voc = _get_vocabulary()\n",
    "word_index = dict(zip(voc, range(len(voc))))\n",
    "\n",
    "embeddings_index = {}\n",
    "with open('glove.6B.300d.txt', encoding=\"utf8\") as f:\n",
    "    for line in f:\n",
    "        \n",
    "        word, coefs = line.split(maxsplit=1)\n",
    "        \n",
    "        coefs = np.fromstring(coefs, \"f\", sep=\" \")\n",
    "        \n",
    "        embeddings_index[word] = coefs\n",
    "\n",
    "print(\"Found %s word vectors.\" % len(embeddings_index))"
   ]
  },
  {
   "cell_type": "code",
   "execution_count": 21,
   "metadata": {},
   "outputs": [
    {
     "name": "stdout",
     "output_type": "stream",
     "text": [
      "Converted 18281 words (1716 misses)\n"
     ]
    }
   ],
   "source": [
    "num_tokens = len(voc) + 2\n",
    "embedding_dim = 300\n",
    "hits = 0\n",
    "misses = 0\n",
    "\n",
    "# Prepare embedding matrix\n",
    "embedding_matrix = np.zeros((num_tokens, embedding_dim))\n",
    "for word, i in word_index.items():\n",
    "    embedding_vector = embeddings_index.get(word)\n",
    "    if embedding_vector is not None:\n",
    "        # Words not found in embedding index will be all-zeros.\n",
    "        # This includes the representation for \"padding\" and \"OOV\"\n",
    "        embedding_matrix[i] = embedding_vector\n",
    "        hits += 1\n",
    "    else:\n",
    "        misses += 1\n",
    "print(\"Converted %d words (%d misses)\" % (hits, misses))"
   ]
  },
  {
   "cell_type": "markdown",
   "metadata": {},
   "source": [
    "# Embedding Layer"
   ]
  },
  {
   "cell_type": "code",
   "execution_count": 22,
   "metadata": {},
   "outputs": [],
   "source": [
    "from tensorflow.keras.layers import Embedding\n",
    "\n",
    "embedding_layer = Embedding(\n",
    "    num_tokens,\n",
    "    embedding_dim,\n",
    "    embeddings_initializer=keras.initializers.Constant(embedding_matrix),\n",
    "    trainable=True,\n",
    ")"
   ]
  },
  {
   "cell_type": "markdown",
   "metadata": {},
   "source": [
    "# Model"
   ]
  },
  {
   "cell_type": "code",
   "execution_count": 23,
   "metadata": {},
   "outputs": [],
   "source": [
    "from tensorflow.keras import layers"
   ]
  },
  {
   "cell_type": "code",
   "execution_count": 27,
   "metadata": {},
   "outputs": [
    {
     "name": "stdout",
     "output_type": "stream",
     "text": [
      "Model: \"sequential_2\"\n",
      "_________________________________________________________________\n",
      "Layer (type)                 Output Shape              Param #   \n",
      "=================================================================\n",
      "embedding_1 (Embedding)      (None, None, 300)         6000300   \n",
      "_________________________________________________________________\n",
      "dense_6 (Dense)              (None, None, 128)         38528     \n",
      "_________________________________________________________________\n",
      "dropout_2 (Dropout)          (None, None, 128)         0         \n",
      "_________________________________________________________________\n",
      "dense_7 (Dense)              (None, None, 64)          8256      \n",
      "_________________________________________________________________\n",
      "dense_8 (Dense)              (None, None, 1)           65        \n",
      "=================================================================\n",
      "Total params: 6,047,149\n",
      "Trainable params: 6,047,149\n",
      "Non-trainable params: 0\n",
      "_________________________________________________________________\n"
     ]
    }
   ],
   "source": [
    "model = keras.Sequential()\n",
    "model.add(embedding_layer)\n",
    "model.add(layers.Dense(128, activation=\"relu\"))\n",
    "model.add(layers.Dropout(0.1))\n",
    "model.add(layers.Dense(64, activation=\"relu\"))\n",
    "model.add(layers.Dense(1, activation=\"sigmoid\"))\n",
    "\n",
    "model.summary()"
   ]
  },
  {
   "cell_type": "code",
   "execution_count": 25,
   "metadata": {},
   "outputs": [],
   "source": [
    "# Training and Testing split\n",
    "# validation_split = 0.2\n",
    "# num_validation_samples = int(validation_split * len(train_samples))\n",
    "# x_val = np.array(train_samples[:-num_validation_samples])\n",
    "# x_train = np.array(train_samples[-num_validation_samples:])\n",
    "# y_val = np.array(train_labels[:-num_validation_samples])\n",
    "# y_train = np.array(train_labels[-num_validation_samples:])\n",
    "\n",
    "x_train = vectorizer(np.array([[s] for s in train_samples])).numpy()\n",
    "x_val = vectorizer(np.array([[s] for s in val_samples])).numpy()\n",
    "\n",
    "y_train = np.array(train_labels)\n",
    "y_val = np.array(val_labels)"
   ]
  },
  {
   "cell_type": "code",
   "execution_count": null,
   "metadata": {},
   "outputs": [
    {
     "name": "stdout",
     "output_type": "stream",
     "text": [
      "Epoch 1/10\n",
      "277/277 [==============================] - 66s 236ms/step - loss: 0.6312 - acc: 0.6265 - val_loss: 0.6202 - val_acc: 0.6399\n",
      "Epoch 2/10\n",
      "277/277 [==============================] - 65s 235ms/step - loss: 0.6186 - acc: 0.6399 - val_loss: 0.6201 - val_acc: 0.6410\n",
      "Epoch 3/10\n",
      "277/277 [==============================] - 65s 235ms/step - loss: 0.6175 - acc: 0.6419 - val_loss: 0.6199 - val_acc: 0.6411\n",
      "Epoch 4/10\n",
      "277/277 [==============================] - 65s 236ms/step - loss: 0.6172 - acc: 0.6416 - val_loss: 0.6197 - val_acc: 0.6411\n",
      "Epoch 5/10\n",
      "277/277 [==============================] - 65s 234ms/step - loss: 0.6177 - acc: 0.6412 - val_loss: 0.6199 - val_acc: 0.6410\n",
      "Epoch 6/10\n",
      "277/277 [==============================] - 63s 228ms/step - loss: 0.6169 - acc: 0.6423 - val_loss: 0.6201 - val_acc: 0.6411\n",
      "Epoch 7/10\n",
      "277/277 [==============================] - 63s 228ms/step - loss: 0.6170 - acc: 0.6421 - val_loss: 0.6199 - val_acc: 0.6410\n",
      "Epoch 8/10\n",
      "277/277 [==============================] - 63s 228ms/step - loss: 0.6179 - acc: 0.6411 - val_loss: 0.6203 - val_acc: 0.6408\n",
      "Epoch 9/10\n",
      "277/277 [==============================] - 63s 228ms/step - loss: 0.6173 - acc: 0.6416 - val_loss: 0.6197 - val_acc: 0.6411\n",
      "Epoch 10/10\n",
      "203/277 [====================>.........] - ETA: 16s - loss: 0.6182 - acc: 0.6395"
     ]
    }
   ],
   "source": [
    "model.compile(loss=\"binary_crossentropy\", optimizer=\"adam\", metrics=[\"acc\"])\n",
    "model.fit(x_train, y_train, batch_size=128, epochs=10,validation_data=(x_val, y_val))"
   ]
  },
  {
   "cell_type": "code",
   "execution_count": null,
   "metadata": {},
   "outputs": [],
   "source": []
  }
 ],
 "metadata": {
  "kernelspec": {
   "display_name": "Python 3",
   "language": "python",
   "name": "python3"
  },
  "language_info": {
   "codemirror_mode": {
    "name": "ipython",
    "version": 3
   },
   "file_extension": ".py",
   "mimetype": "text/x-python",
   "name": "python",
   "nbconvert_exporter": "python",
   "pygments_lexer": "ipython3",
   "version": "3.9.1"
  }
 },
 "nbformat": 4,
 "nbformat_minor": 4
}
